{
 "cells": [
  {
   "cell_type": "markdown",
   "metadata": {},
   "source": [
    "# 1. load the clean data"
   ]
  },
  {
   "cell_type": "code",
   "execution_count": 13,
   "metadata": {},
   "outputs": [
    {
     "data": {
      "text/html": [
       "<div>\n",
       "<style scoped>\n",
       "    .dataframe tbody tr th:only-of-type {\n",
       "        vertical-align: middle;\n",
       "    }\n",
       "\n",
       "    .dataframe tbody tr th {\n",
       "        vertical-align: top;\n",
       "    }\n",
       "\n",
       "    .dataframe thead th {\n",
       "        text-align: right;\n",
       "    }\n",
       "</style>\n",
       "<table border=\"1\" class=\"dataframe\">\n",
       "  <thead>\n",
       "    <tr style=\"text-align: right;\">\n",
       "      <th></th>\n",
       "      <th>zipcode</th>\n",
       "      <th>accommodates</th>\n",
       "      <th>bathrooms</th>\n",
       "      <th>bedrooms</th>\n",
       "      <th>beds</th>\n",
       "      <th>price</th>\n",
       "      <th>review_scores_rating</th>\n",
       "    </tr>\n",
       "  </thead>\n",
       "  <tbody>\n",
       "    <tr>\n",
       "      <td>0</td>\n",
       "      <td>98119</td>\n",
       "      <td>4</td>\n",
       "      <td>1.0</td>\n",
       "      <td>1.0</td>\n",
       "      <td>1.0</td>\n",
       "      <td>85.0</td>\n",
       "      <td>95.0</td>\n",
       "    </tr>\n",
       "    <tr>\n",
       "      <td>1</td>\n",
       "      <td>98119</td>\n",
       "      <td>4</td>\n",
       "      <td>1.0</td>\n",
       "      <td>1.0</td>\n",
       "      <td>1.0</td>\n",
       "      <td>150.0</td>\n",
       "      <td>96.0</td>\n",
       "    </tr>\n",
       "    <tr>\n",
       "      <td>2</td>\n",
       "      <td>98119</td>\n",
       "      <td>11</td>\n",
       "      <td>4.5</td>\n",
       "      <td>5.0</td>\n",
       "      <td>7.0</td>\n",
       "      <td>975.0</td>\n",
       "      <td>97.0</td>\n",
       "    </tr>\n",
       "    <tr>\n",
       "      <td>3</td>\n",
       "      <td>98119</td>\n",
       "      <td>6</td>\n",
       "      <td>2.0</td>\n",
       "      <td>3.0</td>\n",
       "      <td>3.0</td>\n",
       "      <td>450.0</td>\n",
       "      <td>92.0</td>\n",
       "    </tr>\n",
       "    <tr>\n",
       "      <td>4</td>\n",
       "      <td>98119</td>\n",
       "      <td>2</td>\n",
       "      <td>1.0</td>\n",
       "      <td>1.0</td>\n",
       "      <td>1.0</td>\n",
       "      <td>120.0</td>\n",
       "      <td>95.0</td>\n",
       "    </tr>\n",
       "  </tbody>\n",
       "</table>\n",
       "</div>"
      ],
      "text/plain": [
       "   zipcode  accommodates  bathrooms  bedrooms  beds  price  \\\n",
       "0    98119             4        1.0       1.0   1.0   85.0   \n",
       "1    98119             4        1.0       1.0   1.0  150.0   \n",
       "2    98119            11        4.5       5.0   7.0  975.0   \n",
       "3    98119             6        2.0       3.0   3.0  450.0   \n",
       "4    98119             2        1.0       1.0   1.0  120.0   \n",
       "\n",
       "   review_scores_rating  \n",
       "0                  95.0  \n",
       "1                  96.0  \n",
       "2                  97.0  \n",
       "3                  92.0  \n",
       "4                  95.0  "
      ]
     },
     "execution_count": 13,
     "metadata": {},
     "output_type": "execute_result"
    }
   ],
   "source": [
    "import pandas as pd\n",
    "import numpy as np\n",
    "df_all = pd.read_csv('./Result.csv') \n",
    "df_all.head()"
   ]
  },
  {
   "cell_type": "code",
   "execution_count": 14,
   "metadata": {},
   "outputs": [
    {
     "name": "stdout",
     "output_type": "stream",
     "text": [
      "Number of points: 3147\n"
     ]
    },
    {
     "data": {
      "text/html": [
       "<div>\n",
       "<style scoped>\n",
       "    .dataframe tbody tr th:only-of-type {\n",
       "        vertical-align: middle;\n",
       "    }\n",
       "\n",
       "    .dataframe tbody tr th {\n",
       "        vertical-align: top;\n",
       "    }\n",
       "\n",
       "    .dataframe thead th {\n",
       "        text-align: right;\n",
       "    }\n",
       "</style>\n",
       "<table border=\"1\" class=\"dataframe\">\n",
       "  <thead>\n",
       "    <tr style=\"text-align: right;\">\n",
       "      <th></th>\n",
       "      <th>zipcode</th>\n",
       "      <th>accommodates</th>\n",
       "      <th>bathrooms</th>\n",
       "      <th>bedrooms</th>\n",
       "      <th>beds</th>\n",
       "      <th>price</th>\n",
       "      <th>review_scores_rating</th>\n",
       "    </tr>\n",
       "  </thead>\n",
       "  <tbody>\n",
       "    <tr>\n",
       "      <td>0</td>\n",
       "      <td>98119</td>\n",
       "      <td>4</td>\n",
       "      <td>1.0</td>\n",
       "      <td>1.0</td>\n",
       "      <td>1.0</td>\n",
       "      <td>85.0</td>\n",
       "      <td>95.0</td>\n",
       "    </tr>\n",
       "    <tr>\n",
       "      <td>1</td>\n",
       "      <td>98119</td>\n",
       "      <td>4</td>\n",
       "      <td>1.0</td>\n",
       "      <td>1.0</td>\n",
       "      <td>1.0</td>\n",
       "      <td>150.0</td>\n",
       "      <td>96.0</td>\n",
       "    </tr>\n",
       "    <tr>\n",
       "      <td>2</td>\n",
       "      <td>98119</td>\n",
       "      <td>11</td>\n",
       "      <td>4.5</td>\n",
       "      <td>5.0</td>\n",
       "      <td>7.0</td>\n",
       "      <td>975.0</td>\n",
       "      <td>97.0</td>\n",
       "    </tr>\n",
       "    <tr>\n",
       "      <td>3</td>\n",
       "      <td>98119</td>\n",
       "      <td>6</td>\n",
       "      <td>2.0</td>\n",
       "      <td>3.0</td>\n",
       "      <td>3.0</td>\n",
       "      <td>450.0</td>\n",
       "      <td>92.0</td>\n",
       "    </tr>\n",
       "    <tr>\n",
       "      <td>4</td>\n",
       "      <td>98119</td>\n",
       "      <td>2</td>\n",
       "      <td>1.0</td>\n",
       "      <td>1.0</td>\n",
       "      <td>1.0</td>\n",
       "      <td>120.0</td>\n",
       "      <td>95.0</td>\n",
       "    </tr>\n",
       "  </tbody>\n",
       "</table>\n",
       "</div>"
      ],
      "text/plain": [
       "   zipcode  accommodates  bathrooms  bedrooms  beds  price  \\\n",
       "0    98119             4        1.0       1.0   1.0   85.0   \n",
       "1    98119             4        1.0       1.0   1.0  150.0   \n",
       "2    98119            11        4.5       5.0   7.0  975.0   \n",
       "3    98119             6        2.0       3.0   3.0  450.0   \n",
       "4    98119             2        1.0       1.0   1.0  120.0   \n",
       "\n",
       "   review_scores_rating  \n",
       "0                  95.0  \n",
       "1                  96.0  \n",
       "2                  97.0  \n",
       "3                  92.0  \n",
       "4                  95.0  "
      ]
     },
     "execution_count": 14,
     "metadata": {},
     "output_type": "execute_result"
    }
   ],
   "source": [
    "df = df_all\n",
    "print(f'Number of points: {len(df)}')\n",
    "df.head()"
   ]
  },
  {
   "cell_type": "markdown",
   "metadata": {},
   "source": [
    "# 2. Train the model"
   ]
  },
  {
   "cell_type": "code",
   "execution_count": 15,
   "metadata": {},
   "outputs": [],
   "source": [
    "from sklearn.model_selection import train_test_split \n",
    "train_data, test_data = train_test_split(df, test_size = 0.2, random_state=0)"
   ]
  },
  {
   "cell_type": "code",
   "execution_count": 16,
   "metadata": {},
   "outputs": [
    {
     "data": {
      "text/plain": [
       "Text(0, 0.5, 'Price')"
      ]
     },
     "execution_count": 16,
     "metadata": {},
     "output_type": "execute_result"
    },
    {
     "data": {
      "image/png": "[encoded data removed]",
      "text/plain": [
       "<Figure size 432x288 with 1 Axes>"
      ]
     },
     "metadata": {
      "needs_background": "light"
     },
     "output_type": "display_data"
    }
   ],
   "source": [
    "%matplotlib inline\n",
    "import matplotlib.pyplot as plt\n",
    "\n",
    "plt.scatter(train_data['review_scores_rating'], train_data['price'], marker='+', label='Train')\n",
    "plt.scatter(test_data['review_scores_rating'], test_data['price'], marker='.', label='Test')\n",
    "\n",
    "# Code to customize the axis labels\n",
    "plt.legend()\n",
    "plt.xlabel('review_scores_rating')\n",
    "plt.ylabel('Price')"
   ]
  },
  {
   "cell_type": "code",
   "execution_count": 17,
   "metadata": {},
   "outputs": [
    {
     "name": "stdout",
     "output_type": "stream",
     "text": [
      "['accommodates', 'accommodates_square', 'accommodates_sqrt', 'bathrooms', 'bathrooms_square', 'bathrooms_sqrt', 'bedrooms', 'bedrooms_square', 'bedrooms_sqrt', 'beds', 'beds_square', 'beds_sqrt', 'review_scores_rating', 'review_scores_rating_square', 'review_scores_rating_sqrt']\n"
     ]
    },
    {
     "data": {
      "text/html": [
       "<div>\n",
       "<style scoped>\n",
       "    .dataframe tbody tr th:only-of-type {\n",
       "        vertical-align: middle;\n",
       "    }\n",
       "\n",
       "    .dataframe tbody tr th {\n",
       "        vertical-align: top;\n",
       "    }\n",
       "\n",
       "    .dataframe thead th {\n",
       "        text-align: right;\n",
       "    }\n",
       "</style>\n",
       "<table border=\"1\" class=\"dataframe\">\n",
       "  <thead>\n",
       "    <tr style=\"text-align: right;\">\n",
       "      <th></th>\n",
       "      <th>zipcode</th>\n",
       "      <th>accommodates</th>\n",
       "      <th>bathrooms</th>\n",
       "      <th>bedrooms</th>\n",
       "      <th>beds</th>\n",
       "      <th>price</th>\n",
       "      <th>review_scores_rating</th>\n",
       "      <th>accommodates_square</th>\n",
       "      <th>accommodates_sqrt</th>\n",
       "      <th>bathrooms_square</th>\n",
       "      <th>bathrooms_sqrt</th>\n",
       "      <th>bedrooms_square</th>\n",
       "      <th>bedrooms_sqrt</th>\n",
       "      <th>beds_square</th>\n",
       "      <th>beds_sqrt</th>\n",
       "      <th>review_scores_rating_square</th>\n",
       "      <th>review_scores_rating_sqrt</th>\n",
       "    </tr>\n",
       "  </thead>\n",
       "  <tbody>\n",
       "    <tr>\n",
       "      <td>0</td>\n",
       "      <td>98119</td>\n",
       "      <td>4</td>\n",
       "      <td>1.0</td>\n",
       "      <td>1.0</td>\n",
       "      <td>1.0</td>\n",
       "      <td>85.0</td>\n",
       "      <td>95.0</td>\n",
       "      <td>16</td>\n",
       "      <td>2.000000</td>\n",
       "      <td>1.00</td>\n",
       "      <td>1.000000</td>\n",
       "      <td>1.0</td>\n",
       "      <td>1.000000</td>\n",
       "      <td>1.0</td>\n",
       "      <td>1.000000</td>\n",
       "      <td>9025.0</td>\n",
       "      <td>9.746794</td>\n",
       "    </tr>\n",
       "    <tr>\n",
       "      <td>1</td>\n",
       "      <td>98119</td>\n",
       "      <td>4</td>\n",
       "      <td>1.0</td>\n",
       "      <td>1.0</td>\n",
       "      <td>1.0</td>\n",
       "      <td>150.0</td>\n",
       "      <td>96.0</td>\n",
       "      <td>16</td>\n",
       "      <td>2.000000</td>\n",
       "      <td>1.00</td>\n",
       "      <td>1.000000</td>\n",
       "      <td>1.0</td>\n",
       "      <td>1.000000</td>\n",
       "      <td>1.0</td>\n",
       "      <td>1.000000</td>\n",
       "      <td>9216.0</td>\n",
       "      <td>9.797959</td>\n",
       "    </tr>\n",
       "    <tr>\n",
       "      <td>2</td>\n",
       "      <td>98119</td>\n",
       "      <td>11</td>\n",
       "      <td>4.5</td>\n",
       "      <td>5.0</td>\n",
       "      <td>7.0</td>\n",
       "      <td>975.0</td>\n",
       "      <td>97.0</td>\n",
       "      <td>121</td>\n",
       "      <td>3.316625</td>\n",
       "      <td>20.25</td>\n",
       "      <td>2.121320</td>\n",
       "      <td>25.0</td>\n",
       "      <td>2.236068</td>\n",
       "      <td>49.0</td>\n",
       "      <td>2.645751</td>\n",
       "      <td>9409.0</td>\n",
       "      <td>9.848858</td>\n",
       "    </tr>\n",
       "    <tr>\n",
       "      <td>3</td>\n",
       "      <td>98119</td>\n",
       "      <td>6</td>\n",
       "      <td>2.0</td>\n",
       "      <td>3.0</td>\n",
       "      <td>3.0</td>\n",
       "      <td>450.0</td>\n",
       "      <td>92.0</td>\n",
       "      <td>36</td>\n",
       "      <td>2.449490</td>\n",
       "      <td>4.00</td>\n",
       "      <td>1.414214</td>\n",
       "      <td>9.0</td>\n",
       "      <td>1.732051</td>\n",
       "      <td>9.0</td>\n",
       "      <td>1.732051</td>\n",
       "      <td>8464.0</td>\n",
       "      <td>9.591663</td>\n",
       "    </tr>\n",
       "    <tr>\n",
       "      <td>4</td>\n",
       "      <td>98119</td>\n",
       "      <td>2</td>\n",
       "      <td>1.0</td>\n",
       "      <td>1.0</td>\n",
       "      <td>1.0</td>\n",
       "      <td>120.0</td>\n",
       "      <td>95.0</td>\n",
       "      <td>4</td>\n",
       "      <td>1.414214</td>\n",
       "      <td>1.00</td>\n",
       "      <td>1.000000</td>\n",
       "      <td>1.0</td>\n",
       "      <td>1.000000</td>\n",
       "      <td>1.0</td>\n",
       "      <td>1.000000</td>\n",
       "      <td>9025.0</td>\n",
       "      <td>9.746794</td>\n",
       "    </tr>\n",
       "  </tbody>\n",
       "</table>\n",
       "</div>"
      ],
      "text/plain": [
       "   zipcode  accommodates  bathrooms  bedrooms  beds  price  \\\n",
       "0    98119             4        1.0       1.0   1.0   85.0   \n",
       "1    98119             4        1.0       1.0   1.0  150.0   \n",
       "2    98119            11        4.5       5.0   7.0  975.0   \n",
       "3    98119             6        2.0       3.0   3.0  450.0   \n",
       "4    98119             2        1.0       1.0   1.0  120.0   \n",
       "\n",
       "   review_scores_rating  accommodates_square  accommodates_sqrt  \\\n",
       "0                  95.0                   16           2.000000   \n",
       "1                  96.0                   16           2.000000   \n",
       "2                  97.0                  121           3.316625   \n",
       "3                  92.0                   36           2.449490   \n",
       "4                  95.0                    4           1.414214   \n",
       "\n",
       "   bathrooms_square  bathrooms_sqrt  bedrooms_square  bedrooms_sqrt  \\\n",
       "0              1.00        1.000000              1.0       1.000000   \n",
       "1              1.00        1.000000              1.0       1.000000   \n",
       "2             20.25        2.121320             25.0       2.236068   \n",
       "3              4.00        1.414214              9.0       1.732051   \n",
       "4              1.00        1.000000              1.0       1.000000   \n",
       "\n",
       "   beds_square  beds_sqrt  review_scores_rating_square  \\\n",
       "0          1.0   1.000000                       9025.0   \n",
       "1          1.0   1.000000                       9216.0   \n",
       "2         49.0   2.645751                       9409.0   \n",
       "3          9.0   1.732051                       8464.0   \n",
       "4          1.0   1.000000                       9025.0   \n",
       "\n",
       "   review_scores_rating_sqrt  \n",
       "0                   9.746794  \n",
       "1                   9.797959  \n",
       "2                   9.848858  \n",
       "3                   9.591663  \n",
       "4                   9.746794  "
      ]
     },
     "execution_count": 17,
     "metadata": {},
     "output_type": "execute_result"
    }
   ],
   "source": [
    "# step 1: computer the sqrt of all the feature\n",
    "\n",
    "from math import sqrt\n",
    "\n",
    "# All of the features of interest\n",
    "features = ['accommodates','bathrooms','bedrooms','beds','review_scores_rating']\n",
    "# Compute the square and sqrt of each feature\n",
    "all_features = []\n",
    "for feat in features:\n",
    "    square_feat = feat + '_square'\n",
    "    sqrt_feat = feat + '_sqrt'\n",
    "    \n",
    "    df[square_feat] = df[feat] ** 2\n",
    "    df[sqrt_feat] = df[feat].apply(sqrt)\n",
    "    \n",
    "    all_features.extend([feat, square_feat, sqrt_feat])\n",
    "print(all_features)    \n",
    "df.head()\n",
    "\n"
   ]
  },
  {
   "cell_type": "code",
   "execution_count": 18,
   "metadata": {},
   "outputs": [],
   "source": [
    "# # step 2:standardized (mean 0, std. dev. 1)\n",
    "# def standardize(v):\n",
    "#     std = v.std()\n",
    "#     if std == 0:\n",
    "#         return np.zeros(len(v))\n",
    "#     else:\n",
    "#         return (v - v.mean()) / std\n",
    "\n",
    "# # Standardize each of the features\n",
    "# for feature in all_features:\n",
    "#     df[feature] = standardize(df[feature])\n",
    "\n",
    "# # Preview\n",
    "# df.head()"
   ]
  },
  {
   "cell_type": "code",
   "execution_count": 19,
   "metadata": {},
   "outputs": [
    {
     "name": "stdout",
     "output_type": "stream",
     "text": [
      "0.2001906577693041\n",
      "0.10009532888465204\n",
      "0.6997140133460439\n"
     ]
    }
   ],
   "source": [
    "# step 3 split the data:\n",
    "from sklearn.model_selection import train_test_split\n",
    "\n",
    "train_and_validation, test = train_test_split(df, test_size=0.2, random_state=6)\n",
    "train, validation = train_test_split(train_and_validation, test_size=0.125, random_state=6)\n",
    "print(len(test)/len(df))#20% to test\n",
    "print(len(validation)/len(df))#10% for validation\n",
    "print(len(train)/len(df))"
   ]
  },
  {
   "cell_type": "code",
   "execution_count": 20,
   "metadata": {},
   "outputs": [
    {
     "name": "stdout",
     "output_type": "stream",
     "text": [
      "Mean squared error: 3658.79\n"
     ]
    },
    {
     "data": {
      "text/plain": [
       "Text(0, 0.5, 'Price')"
      ]
     },
     "execution_count": 20,
     "metadata": {},
     "output_type": "execute_result"
    },
    {
     "data": {
      "image/png": "[encoded data removed]",
      "text/plain": [
       "<Figure size 432x288 with 1 Axes>"
      ]
     },
     "metadata": {
      "needs_background": "light"
     },
     "output_type": "display_data"
    }
   ],
   "source": [
    "# TODO Train a linear regression model\n",
    "from sklearn import linear_model\n",
    "from sklearn.metrics import mean_squared_error\n",
    "import math\n",
    "regr = linear_model.LinearRegression()\n",
    "model=regr.fit(train[all_features], train['price'])\n",
    "\n",
    "y_pred = regr.predict(test[all_features])\n",
    "y_test = test['price']\n",
    "# The mean squared error\n",
    "print(\"Mean squared error: %.2f\"\n",
    "      % mean_squared_error(y_test,y_pred))\n",
    "RSS=mean_squared_error(y_test,y_pred)\n",
    "RMSE=math.sqrt(RSS)\n",
    "\n",
    "import matplotlib.pyplot as plt\n",
    "plt.scatter(test['review_scores_rating'], y_test, marker='.',  color='black',label='original_data')\n",
    "plt.scatter(test['review_scores_rating'], y_pred, color='blue',label='prep_data')\n",
    "\n",
    "# Code to customize the axis labels\n",
    "plt.legend()\n",
    "plt.xlabel('review_scores_rating')\n",
    "plt.ylabel('Price')"
   ]
  },
  {
   "cell_type": "markdown",
   "metadata": {},
   "source": [
    "# test for input:"
   ]
  },
  {
   "cell_type": "code",
   "execution_count": 21,
   "metadata": {},
   "outputs": [
    {
     "data": {
      "text/html": [
       "<div>\n",
       "<style scoped>\n",
       "    .dataframe tbody tr th:only-of-type {\n",
       "        vertical-align: middle;\n",
       "    }\n",
       "\n",
       "    .dataframe tbody tr th {\n",
       "        vertical-align: top;\n",
       "    }\n",
       "\n",
       "    .dataframe thead th {\n",
       "        text-align: right;\n",
       "    }\n",
       "</style>\n",
       "<table border=\"1\" class=\"dataframe\">\n",
       "  <thead>\n",
       "    <tr style=\"text-align: right;\">\n",
       "      <th></th>\n",
       "      <th>accommodates</th>\n",
       "      <th>bathrooms</th>\n",
       "      <th>bedrooms</th>\n",
       "      <th>beds</th>\n",
       "      <th>review_scores_rating</th>\n",
       "      <th>accommodates_square</th>\n",
       "      <th>accommodates_sqrt</th>\n",
       "      <th>bathrooms_square</th>\n",
       "      <th>bathrooms_sqrt</th>\n",
       "      <th>bedrooms_square</th>\n",
       "      <th>bedrooms_sqrt</th>\n",
       "      <th>beds_square</th>\n",
       "      <th>beds_sqrt</th>\n",
       "      <th>review_scores_rating_square</th>\n",
       "      <th>review_scores_rating_sqrt</th>\n",
       "    </tr>\n",
       "  </thead>\n",
       "  <tbody>\n",
       "    <tr>\n",
       "      <td>0</td>\n",
       "      <td>1</td>\n",
       "      <td>1</td>\n",
       "      <td>1</td>\n",
       "      <td>1</td>\n",
       "      <td>90</td>\n",
       "      <td>1</td>\n",
       "      <td>1.0</td>\n",
       "      <td>1</td>\n",
       "      <td>1.0</td>\n",
       "      <td>1</td>\n",
       "      <td>1.0</td>\n",
       "      <td>1</td>\n",
       "      <td>1.0</td>\n",
       "      <td>8100</td>\n",
       "      <td>9.486833</td>\n",
       "    </tr>\n",
       "  </tbody>\n",
       "</table>\n",
       "</div>"
      ],
      "text/plain": [
       "   accommodates  bathrooms  bedrooms  beds  review_scores_rating  \\\n",
       "0             1          1         1     1                    90   \n",
       "\n",
       "   accommodates_square  accommodates_sqrt  bathrooms_square  bathrooms_sqrt  \\\n",
       "0                    1                1.0                 1             1.0   \n",
       "\n",
       "   bedrooms_square  bedrooms_sqrt  beds_square  beds_sqrt  \\\n",
       "0                1            1.0            1        1.0   \n",
       "\n",
       "   review_scores_rating_square  review_scores_rating_sqrt  \n",
       "0                         8100                   9.486833  "
      ]
     },
     "execution_count": 21,
     "metadata": {},
     "output_type": "execute_result"
    }
   ],
   "source": [
    "# input:\n",
    "data = {'accommodates':[1],'bathrooms':[1],'bedrooms':[1],'beds':[1],'review_scores_rating': [90]}\n",
    "dfn = pd.DataFrame(data)\n",
    "all_features = []\n",
    "features = ['accommodates','bathrooms','bedrooms','beds','review_scores_rating']\n",
    "for feat in features:\n",
    "    square_feat = feat + '_square'\n",
    "    sqrt_feat = feat + '_sqrt'\n",
    "    dfn[square_feat] = dfn[feat] ** 2\n",
    "    dfn[sqrt_feat] = dfn[feat].apply(sqrt)\n",
    "    all_features.extend([feat, square_feat, sqrt_feat])\n",
    "dfn.head()"
   ]
  },
  {
   "cell_type": "code",
   "execution_count": 25,
   "metadata": {},
   "outputs": [
    {
     "name": "stdout",
     "output_type": "stream",
     "text": [
      "[41.00359493]\n"
     ]
    }
   ],
   "source": [
    "output = regr.predict(dfn[all_features])\n",
    "print(output)"
   ]
  },
  {
   "cell_type": "code",
   "execution_count": 26,
   "metadata": {},
   "outputs": [],
   "source": [
    "coef = model.coef_"
   ]
  },
  {
   "cell_type": "code",
   "execution_count": 27,
   "metadata": {},
   "outputs": [
    {
     "data": {
      "text/plain": [
       "15"
      ]
     },
     "execution_count": 27,
     "metadata": {},
     "output_type": "execute_result"
    }
   ],
   "source": [
    "len(coef)"
   ]
  },
  {
   "cell_type": "code",
   "execution_count": 28,
   "metadata": {},
   "outputs": [
    {
     "data": {
      "text/plain": [
       "array([-1.83837091e+01, -3.20326998e-02,  1.34496137e+02,  8.61769630e+01,\n",
       "       -6.66696707e+00, -8.86137549e+01,  2.16864018e+01,  8.38746476e+00,\n",
       "       -3.86307155e+01,  2.69403104e+01, -1.14490092e+00, -7.95264839e+01,\n",
       "       -4.49132677e+01,  1.30291913e-01,  4.25632233e+02])"
      ]
     },
     "execution_count": 28,
     "metadata": {},
     "output_type": "execute_result"
    }
   ],
   "source": [
    "coef\n"
   ]
  },
  {
   "cell_type": "code",
   "execution_count": 29,
   "metadata": {},
   "outputs": [
    {
     "data": {
      "text/plain": [
       "['accommodates',\n",
       " 'accommodates_square',\n",
       " 'accommodates_sqrt',\n",
       " 'bathrooms',\n",
       " 'bathrooms_square',\n",
       " 'bathrooms_sqrt',\n",
       " 'bedrooms',\n",
       " 'bedrooms_square',\n",
       " 'bedrooms_sqrt',\n",
       " 'beds',\n",
       " 'beds_square',\n",
       " 'beds_sqrt',\n",
       " 'review_scores_rating',\n",
       " 'review_scores_rating_square',\n",
       " 'review_scores_rating_sqrt']"
      ]
     },
     "execution_count": 29,
     "metadata": {},
     "output_type": "execute_result"
    }
   ],
   "source": [
    "all_features"
   ]
  },
  {
   "cell_type": "code",
   "execution_count": null,
   "metadata": {},
   "outputs": [],
   "source": []
  }
 ],
 "metadata": {
  "kernelspec": {
   "display_name": "Python 3",
   "language": "python",
   "name": "python3"
  },
  "language_info": {
   "codemirror_mode": {
    "name": "ipython",
    "version": 3
   },
   "file_extension": ".py",
   "mimetype": "text/x-python",
   "name": "python",
   "nbconvert_exporter": "python",
   "pygments_lexer": "ipython3",
   "version": "3.7.4"
  }
 },
 "nbformat": 4,
 "nbformat_minor": 2
}
